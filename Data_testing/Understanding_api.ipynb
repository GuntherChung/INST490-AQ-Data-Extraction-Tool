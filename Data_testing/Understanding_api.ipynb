{
 "cells": [
  {
   "cell_type": "markdown",
   "metadata": {},
   "source": [
    "# With this notebook, we will be trying to gain a better understanding of the Purple Air API."
   ]
  },
  {
   "cell_type": "code",
   "execution_count": 9,
   "metadata": {},
   "outputs": [],
   "source": [
    "#load in libraries\n",
    "import requests\n",
    "import json\n",
    "import pandas as pd"
   ]
  },
  {
   "cell_type": "markdown",
   "metadata": {},
   "source": [
    "### Testing Api connection"
   ]
  },
  {
   "cell_type": "code",
   "execution_count": 10,
   "metadata": {},
   "outputs": [],
   "source": [
    "#authentication keys\n",
    "Read_Key = \"C7AF49F7-C3F6-11ED-B6F4-42010A800007\"\n",
    "Write_Key = \"C7B07520-C3F6-11ED-B6F4-42010A800007\""
   ]
  },
  {
   "cell_type": "code",
   "execution_count": 11,
   "metadata": {},
   "outputs": [
    {
     "name": "stdout",
     "output_type": "stream",
     "text": [
      "{'api_version': 'V1.0.11-0.0.43', 'time_stamp': 1682530045, 'api_key_type': 'READ'}\n"
     ]
    }
   ],
   "source": [
    "# Establish initial connection \n",
    "\n",
    "# Set up the API endpoint URL and headers\n",
    "url = \"https://api.purpleair.com/v1/keys\"\n",
    "headers = {\"X-API-Key\": Read_Key}\n",
    "\n",
    "# Make the API request\n",
    "response = requests.get(url, headers=headers)\n",
    "\n",
    "# Print the API response\n",
    "print(response.json())\n"
   ]
  },
  {
   "cell_type": "markdown",
   "metadata": {},
   "source": [
    "#### Connection was successful "
   ]
  },
  {
   "cell_type": "markdown",
   "metadata": {},
   "source": [
    "### Next, Test pulling sensor data\n",
    "\n",
    "How to make a call : https://community.purpleair.com/t/making-api-calls-with-the-purpleair-api/180\n",
    "\n",
    "How to find sensor index : https://community.purpleair.com/t/sensor-index/4000"
   ]
  },
  {
   "cell_type": "code",
   "execution_count": 12,
   "metadata": {},
   "outputs": [],
   "source": [
    "#Sensor ID for testing\n",
    "Union_Bethel_AME = \"133730#11.74\"\n",
    "William_S_Schmidt = \"134488#11.74\""
   ]
  },
  {
   "cell_type": "code",
   "execution_count": 13,
   "metadata": {},
   "outputs": [
    {
     "name": "stdout",
     "output_type": "stream",
     "text": [
      "{'api_version': 'V1.0.11-0.0.43', 'time_stamp': 1682530045, 'data_time_stamp': 1682530035, 'sensor': {'sensor_index': 133730, 'last_modified': 1676581473, 'date_created': 1634686448, 'last_seen': 1682529960, 'private': 0, 'is_owner': 0, 'name': 'Union Bethel AME', 'icon': 0, 'location_type': 0, 'model': 'PA-II-SD', 'hardware': '2.0+OPENLOG+NO-DISK+DS3231+BME280+PMSX003-B+PMSX003-A', 'led_brightness': 50, 'firmware_version': '7.02', 'rssi': -69, 'uptime': 26357, 'pa_latency': 252, 'memory': 15640, 'position_rating': 5, 'latitude': 38.70654, 'longitude': -76.8886, 'altitude': 236, 'channel_state': 3, 'channel_flags': 0, 'channel_flags_manual': 0, 'channel_flags_auto': 0, 'confidence': 100, 'confidence_auto': 100, 'confidence_manual': 100, 'humidity': 27, 'humidity_a': 27, 'temperature': 74, 'temperature_a': 74, 'pressure': 1012.96, 'pressure_a': 1012.96, 'analog_input': 0.0, 'pm1.0': 2.0, 'pm1.0_a': 1.8, 'pm1.0_b': 2.1, 'pm2.5': 3.9, 'pm2.5_a': 4.4, 'pm2.5_b': 3.4, 'pm2.5_alt': 2.2, 'pm2.5_alt_a': 2.5, 'pm2.5_alt_b': 1.8, 'pm10.0': 4.1, 'pm10.0_a': 4.6, 'pm10.0_b': 3.6, '0.3_um_count': 343, '0.3_um_count_a': 344, '0.3_um_count_b': 343, '0.5_um_count': 314, '0.5_um_count_a': 311, '0.5_um_count_b': 317, '1.0_um_count': 7, '1.0_um_count_a': 14, '1.0_um_count_b': 0, '2.5_um_count': 0, '2.5_um_count_a': 0, '2.5_um_count_b': 0, '5.0_um_count': 0, '5.0_um_count_a': 0, '5.0_um_count_b': 0, '10.0_um_count': 0, '10.0_um_count_a': 0, '10.0_um_count_b': 0, 'pm1.0_cf_1': 2.0, 'pm1.0_cf_1_a': 1.81, 'pm1.0_cf_1_b': 2.14, 'pm1.0_atm': 2.0, 'pm1.0_atm_a': 1.81, 'pm1.0_atm_b': 2.14, 'pm2.5_atm': 3.9, 'pm2.5_atm_a': 4.44, 'pm2.5_atm_b': 3.45, 'pm2.5_cf_1': 3.9, 'pm2.5_cf_1_a': 4.44, 'pm2.5_cf_1_b': 3.45, 'pm10.0_atm': 4.1, 'pm10.0_atm_a': 4.56, 'pm10.0_atm_b': 3.55, 'pm10.0_cf_1': 4.1, 'pm10.0_cf_1_a': 4.56, 'pm10.0_cf_1_b': 3.55, 'primary_id_a': 1541469, 'primary_key_a': 'IU2HW6FDQK1SH531', 'primary_id_b': 1541471, 'primary_key_b': 'RO6N26IO6VEURDEQ', 'secondary_id_a': 1541470, 'secondary_key_a': 'LIFPQUIL7RLAHIB5', 'secondary_id_b': 1541472, 'secondary_key_b': 'FOIHMPW2Z1R3QJR3', 'stats': {'pm2.5': 3.9, 'pm2.5_10minute': 4.0, 'pm2.5_30minute': 3.9, 'pm2.5_60minute': 4.5, 'pm2.5_6hour': 5.5, 'pm2.5_24hour': 4.8, 'pm2.5_1week': 5.2, 'time_stamp': 1682529960}, 'stats_a': {'pm2.5': 4.4, 'pm2.5_10minute': 4.4, 'pm2.5_30minute': 4.3, 'pm2.5_60minute': 4.9, 'pm2.5_6hour': 5.8, 'pm2.5_24hour': 5.1, 'pm2.5_1week': 5.6, 'time_stamp': 1682529960}, 'stats_b': {'pm2.5': 3.4, 'pm2.5_10minute': 3.5, 'pm2.5_30minute': 3.5, 'pm2.5_60minute': 4.1, 'pm2.5_6hour': 5.2, 'pm2.5_24hour': 4.5, 'pm2.5_1week': 4.8, 'time_stamp': 1682529960}}}\n"
     ]
    },
    {
     "data": {
      "text/plain": [
       "'{\\n  \"api_version\" : \"V1.0.11-0.0.43\",\\n  \"time_stamp\" : 1682530045,\\n  \"data_time_stamp\" : 1682530035,\\n  \"sensor\" : {\\n    \"sensor_index\" : 133730,\\n    \"last_modified\" : 1676581473,\\n    \"date_created\" : 1634686448,\\n    \"last_seen\" : 1682529960,\\n    \"private\" : 0,\\n    \"is_owner\" : 0,\\n    \"name\" : \"Union Bethel AME\",\\n    \"icon\" : 0,\\n    \"location_type\" : 0,\\n    \"model\" : \"PA-II-SD\",\\n    \"hardware\" : \"2.0+OPENLOG+NO-DISK+DS3231+BME280+PMSX003-B+PMSX003-A\",\\n    \"led_brightness\" : 50,\\n    \"firmware_version\" : \"7.02\",\\n    \"rssi\" : -69,\\n    \"uptime\" : 26357,\\n    \"pa_latency\" : 252,\\n    \"memory\" : 15640,\\n    \"position_rating\" : 5,\\n    \"latitude\" : 38.70654,\\n    \"longitude\" : -76.8886,\\n    \"altitude\" : 236,\\n    \"channel_state\" : 3,\\n    \"channel_flags\" : 0,\\n    \"channel_flags_manual\" : 0,\\n    \"channel_flags_auto\" : 0,\\n    \"confidence\" : 100,\\n    \"confidence_auto\" : 100,\\n    \"confidence_manual\" : 100,\\n    \"humidity\" : 27,\\n    \"humidity_a\" : 27,\\n    \"temperature\" : 74,\\n    \"temperature_a\" : 74,\\n    \"pressure\" : 1012.96,\\n    \"pressure_a\" : 1012.96,\\n    \"analog_input\" : 0.0,\\n    \"pm1.0\" : 2.0,\\n    \"pm1.0_a\" : 1.8,\\n    \"pm1.0_b\" : 2.1,\\n    \"pm2.5\" : 3.9,\\n    \"pm2.5_a\" : 4.4,\\n    \"pm2.5_b\" : 3.4,\\n    \"pm2.5_alt\" : 2.2,\\n    \"pm2.5_alt_a\" : 2.5,\\n    \"pm2.5_alt_b\" : 1.8,\\n    \"pm10.0\" : 4.1,\\n    \"pm10.0_a\" : 4.6,\\n    \"pm10.0_b\" : 3.6,\\n    \"0.3_um_count\" : 343,\\n    \"0.3_um_count_a\" : 344,\\n    \"0.3_um_count_b\" : 343,\\n    \"0.5_um_count\" : 314,\\n    \"0.5_um_count_a\" : 311,\\n    \"0.5_um_count_b\" : 317,\\n    \"1.0_um_count\" : 7,\\n    \"1.0_um_count_a\" : 14,\\n    \"1.0_um_count_b\" : 0,\\n    \"2.5_um_count\" : 0,\\n    \"2.5_um_count_a\" : 0,\\n    \"2.5_um_count_b\" : 0,\\n    \"5.0_um_count\" : 0,\\n    \"5.0_um_count_a\" : 0,\\n    \"5.0_um_count_b\" : 0,\\n    \"10.0_um_count\" : 0,\\n    \"10.0_um_count_a\" : 0,\\n    \"10.0_um_count_b\" : 0,\\n    \"pm1.0_cf_1\" : 2.0,\\n    \"pm1.0_cf_1_a\" : 1.81,\\n    \"pm1.0_cf_1_b\" : 2.14,\\n    \"pm1.0_atm\" : 2.0,\\n    \"pm1.0_atm_a\" : 1.81,\\n    \"pm1.0_atm_b\" : 2.14,\\n    \"pm2.5_atm\" : 3.9,\\n    \"pm2.5_atm_a\" : 4.44,\\n    \"pm2.5_atm_b\" : 3.45,\\n    \"pm2.5_cf_1\" : 3.9,\\n    \"pm2.5_cf_1_a\" : 4.44,\\n    \"pm2.5_cf_1_b\" : 3.45,\\n    \"pm10.0_atm\" : 4.1,\\n    \"pm10.0_atm_a\" : 4.56,\\n    \"pm10.0_atm_b\" : 3.55,\\n    \"pm10.0_cf_1\" : 4.1,\\n    \"pm10.0_cf_1_a\" : 4.56,\\n    \"pm10.0_cf_1_b\" : 3.55,\\n    \"primary_id_a\" : 1541469,\\n    \"primary_key_a\" : \"IU2HW6FDQK1SH531\",\\n    \"primary_id_b\" : 1541471,\\n    \"primary_key_b\" : \"RO6N26IO6VEURDEQ\",\\n    \"secondary_id_a\" : 1541470,\\n    \"secondary_key_a\" : \"LIFPQUIL7RLAHIB5\",\\n    \"secondary_id_b\" : 1541472,\\n    \"secondary_key_b\" : \"FOIHMPW2Z1R3QJR3\",\\n    \"stats\" : {\"pm2.5\" : 3.9, \"pm2.5_10minute\" : 4.0, \"pm2.5_30minute\" : 3.9, \"pm2.5_60minute\" : 4.5, \"pm2.5_6hour\" : 5.5, \"pm2.5_24hour\" : 4.8, \"pm2.5_1week\" : 5.2, \"time_stamp\" : 1682529960},\\n    \"stats_a\" : {\"pm2.5\" : 4.4, \"pm2.5_10minute\" : 4.4, \"pm2.5_30minute\" : 4.3, \"pm2.5_60minute\" : 4.9, \"pm2.5_6hour\" : 5.8, \"pm2.5_24hour\" : 5.1, \"pm2.5_1week\" : 5.6, \"time_stamp\" : 1682529960},\\n    \"stats_b\" : {\"pm2.5\" : 3.4, \"pm2.5_10minute\" : 3.5, \"pm2.5_30minute\" : 3.5, \"pm2.5_60minute\" : 4.1, \"pm2.5_6hour\" : 5.2, \"pm2.5_24hour\" : 4.5, \"pm2.5_1week\" : 4.8, \"time_stamp\" : 1682529960}\\n  }\\n}'"
      ]
     },
     "execution_count": 13,
     "metadata": {},
     "output_type": "execute_result"
    }
   ],
   "source": [
    "#new url for sensor data\n",
    "endpoint = \"https://api.purpleair.com/v1/sensors/\"\n",
    "\n",
    "# Define API headers with your X-API-Key\n",
    "headers = {\n",
    "    \"X-API-Key\": Read_Key\n",
    "}\n",
    "\n",
    "# Make API GET request\n",
    "response = requests.get(endpoint + Union_Bethel_AME, headers=headers)\n",
    "\n",
    "# Check if request was successful\n",
    "if response.status_code == 200:\n",
    "    # Get data from response\n",
    "    data = response.json()\n",
    "    # Print data\n",
    "    print(data)\n",
    "else:\n",
    "    # Print error message\n",
    "    print(\"Error:\", response.status_code)\n",
    "    \n",
    "response.text"
   ]
  },
  {
   "cell_type": "markdown",
   "metadata": {},
   "source": [
    "#### Above is a raw output of the current metrics a sensor has. This seems problematic becuase no one on our team has knowledge on Air quality terms.\n",
    "\n",
    "#### We will learn these terms to then pull insihgts or at the very least be able to create a table for the data that we can pull. \n",
    "\n",
    "#### Next thing to do is attempt to pull multiple sensors at once, \n",
    "#### and pull historical data. https://api.purpleair.com/#api-sensors-get-sensor-history"
   ]
  },
  {
   "cell_type": "code",
   "execution_count": 26,
   "metadata": {},
   "outputs": [],
   "source": [
    "\n",
    "def Histrocial_call_link (Sensor_id, start=\"1weekago\", end=\"now\", interval=\"hourly\"):\n",
    "    historical_data_call = f\"https://api.purpleair.com/v1/sensors/{Sensor_id}/stats?from={start}&to={end}&interval={interval}\"\n",
    "    response = requests.get(historical_data_call, headers=headers)\n",
    "    return (response)"
   ]
  },
  {
   "cell_type": "code",
   "execution_count": 27,
   "metadata": {},
   "outputs": [
    {
     "name": "stdout",
     "output_type": "stream",
     "text": [
      "{\n",
      "  \"api_version\" : \"V1.0.11-0.0.43\",\n",
      "  \"time_stamp\" : 1682530188,\n",
      "  \"data_time_stamp\" : 1682530155,\n",
      "  \"sensor\" : {\n",
      "    \"sensor_index\" : 133730,\n",
      "    \"last_modified\" : 1676581473,\n",
      "    \"date_created\" : 1634686448,\n",
      "    \"last_seen\" : 1682530080,\n",
      "    \"private\" : 0,\n",
      "    \"is_owner\" : 0,\n",
      "    \"name\" : \"Union Bethel AME\",\n",
      "    \"icon\" : 0,\n",
      "    \"location_type\" : 0,\n",
      "    \"model\" : \"PA-II-SD\",\n",
      "    \"hardware\" : \"2.0+OPENLOG+NO-DISK+DS3231+BME280+PMSX003-B+PMSX003-A\",\n",
      "    \"led_brightness\" : 50,\n",
      "    \"firmware_version\" : \"7.02\",\n",
      "    \"rssi\" : -66,\n",
      "    \"uptime\" : 26359,\n",
      "    \"pa_latency\" : 243,\n",
      "    \"memory\" : 15640,\n",
      "    \"position_rating\" : 5,\n",
      "    \"latitude\" : 38.70654,\n",
      "    \"longitude\" : -76.8886,\n",
      "    \"altitude\" : 236,\n",
      "    \"channel_state\" : 3,\n",
      "    \"channel_flags\" : 0,\n",
      "    \"channel_flags_manual\" : 0,\n",
      "    \"channel_flags_auto\" : 0,\n",
      "    \"confidence\" : 100,\n",
      "    \"confidence_auto\" : 100,\n",
      "    \"confidence_manual\" : 100,\n",
      "    \"humidity\" : 27,\n",
      "    \"humidity_a\" : 27,\n",
      "    \"temperature\" : 76,\n",
      "    \"temperature_a\" : 76,\n",
      "    \"pressure\" : 1012.93,\n",
      "    \"pressure_a\" : 1012.93,\n",
      "    \"analog_input\" : 0.0,\n",
      "    \"pm1.0\" : 2.6,\n",
      "    \"pm1.0_a\" : 2.3,\n",
      "    \"pm1.0_b\" : 2.8,\n",
      "    \"pm2.5\" : 4.2,\n",
      "    \"pm2.5_a\" : 4.8,\n",
      "    \"pm2.5_b\" : 3.5,\n",
      "    \"pm2.5_alt\" : 2.5,\n",
      "    \"pm2.5_alt_a\" : 3.0,\n",
      "    \"pm2.5_alt_b\" : 1.9,\n",
      "    \"pm10.0\" : 4.3,\n",
      "    \"pm10.0_a\" : 5.0,\n",
      "    \"pm10.0_b\" : 3.5,\n",
      "    \"0.3_um_count\" : 358,\n",
      "    \"0.3_um_count_a\" : 366,\n",
      "    \"0.3_um_count_b\" : 350,\n",
      "    \"0.5_um_count\" : 326,\n",
      "    \"0.5_um_count_a\" : 325,\n",
      "    \"0.5_um_count_b\" : 328,\n",
      "    \"1.0_um_count\" : 11,\n",
      "    \"1.0_um_count_a\" : 21,\n",
      "    \"1.0_um_count_b\" : 1,\n",
      "    \"2.5_um_count\" : 0,\n",
      "    \"2.5_um_count_a\" : 0,\n",
      "    \"2.5_um_count_b\" : 0,\n",
      "    \"5.0_um_count\" : 0,\n",
      "    \"5.0_um_count_a\" : 0,\n",
      "    \"5.0_um_count_b\" : 0,\n",
      "    \"10.0_um_count\" : 0,\n",
      "    \"10.0_um_count_a\" : 0,\n",
      "    \"10.0_um_count_b\" : 0,\n",
      "    \"pm1.0_cf_1\" : 2.6,\n",
      "    \"pm1.0_cf_1_a\" : 2.34,\n",
      "    \"pm1.0_cf_1_b\" : 2.76,\n",
      "    \"pm1.0_atm\" : 2.6,\n",
      "    \"pm1.0_atm_a\" : 2.34,\n",
      "    \"pm1.0_atm_b\" : 2.76,\n",
      "    \"pm2.5_atm\" : 4.2,\n",
      "    \"pm2.5_atm_a\" : 4.85,\n",
      "    \"pm2.5_atm_b\" : 3.52,\n",
      "    \"pm2.5_cf_1\" : 4.2,\n",
      "    \"pm2.5_cf_1_a\" : 4.85,\n",
      "    \"pm2.5_cf_1_b\" : 3.52,\n",
      "    \"pm10.0_atm\" : 4.3,\n",
      "    \"pm10.0_atm_a\" : 5.0,\n",
      "    \"pm10.0_atm_b\" : 3.52,\n",
      "    \"pm10.0_cf_1\" : 4.3,\n",
      "    \"pm10.0_cf_1_a\" : 5.0,\n",
      "    \"pm10.0_cf_1_b\" : 3.52,\n",
      "    \"primary_id_a\" : 1541469,\n",
      "    \"primary_key_a\" : \"IU2HW6FDQK1SH531\",\n",
      "    \"primary_id_b\" : 1541471,\n",
      "    \"primary_key_b\" : \"RO6N26IO6VEURDEQ\",\n",
      "    \"secondary_id_a\" : 1541470,\n",
      "    \"secondary_key_a\" : \"LIFPQUIL7RLAHIB5\",\n",
      "    \"secondary_id_b\" : 1541472,\n",
      "    \"secondary_key_b\" : \"FOIHMPW2Z1R3QJR3\",\n",
      "    \"stats\" : {\"pm2.5\" : 4.2, \"pm2.5_10minute\" : 4.0, \"pm2.5_30minute\" : 3.9, \"pm2.5_60minute\" : 4.5, \"pm2.5_6hour\" : 5.5, \"pm2.5_24hour\" : 4.8, \"pm2.5_1week\" : 5.2, \"time_stamp\" : 1682530080},\n",
      "    \"stats_a\" : {\"pm2.5\" : 4.8, \"pm2.5_10minute\" : 4.4, \"pm2.5_30minute\" : 4.3, \"pm2.5_60minute\" : 4.9, \"pm2.5_6hour\" : 5.8, \"pm2.5_24hour\" : 5.1, \"pm2.5_1week\" : 5.6, \"time_stamp\" : 1682530080},\n",
      "    \"stats_b\" : {\"pm2.5\" : 3.5, \"pm2.5_10minute\" : 3.5, \"pm2.5_30minute\" : 3.5, \"pm2.5_60minute\" : 4.1, \"pm2.5_6hour\" : 5.2, \"pm2.5_24hour\" : 4.5, \"pm2.5_1week\" : 4.8, \"time_stamp\" : 1682530080}\n",
      "  }\n",
      "}\n"
     ]
    }
   ],
   "source": [
    "test = Histrocial_call_link(Union_Bethel_AME)\n",
    "print(test.text)"
   ]
  }
 ],
 "metadata": {
  "interpreter": {
   "hash": "aee8b7b246df8f9039afb4144a1f6fd8d2ca17a180786b69acc140d282b71a49"
  },
  "kernelspec": {
   "display_name": "Python 3.9.10 64-bit",
   "language": "python",
   "name": "python3"
  },
  "language_info": {
   "codemirror_mode": {
    "name": "ipython",
    "version": 3
   },
   "file_extension": ".py",
   "mimetype": "text/x-python",
   "name": "python",
   "nbconvert_exporter": "python",
   "pygments_lexer": "ipython3",
   "version": "3.9.10"
  },
  "orig_nbformat": 4
 },
 "nbformat": 4,
 "nbformat_minor": 2
}
