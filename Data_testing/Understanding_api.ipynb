{
 "cells": [
  {
   "cell_type": "markdown",
   "metadata": {},
   "source": [
    "# With this notebook, we will be trying to gain a better understanding of the Purple Air API."
   ]
  },
  {
   "cell_type": "code",
   "execution_count": 12,
   "metadata": {},
   "outputs": [],
   "source": [
    "#load in libraries\n",
    "import requests\n",
    "import json\n",
    "import pandas as pd"
   ]
  },
  {
   "cell_type": "markdown",
   "metadata": {},
   "source": [
    "### Testing Api connection"
   ]
  },
  {
   "cell_type": "code",
   "execution_count": 13,
   "metadata": {},
   "outputs": [],
   "source": [
    "#authentication keys\n",
    "Read_Key = \"C7AF49F7-C3F6-11ED-B6F4-42010A800007\"\n",
    "Write_Key = \"C7B07520-C3F6-11ED-B6F4-42010A800007\""
   ]
  },
  {
   "cell_type": "code",
   "execution_count": 14,
   "metadata": {},
   "outputs": [
    {
     "name": "stdout",
     "output_type": "stream",
     "text": [
      "{'api_version': 'V1.0.11-0.0.43', 'time_stamp': 1681937049, 'api_key_type': 'READ'}\n"
     ]
    }
   ],
   "source": [
    "# Establish initial connection \n",
    "\n",
    "# Set up the API endpoint URL and headers\n",
    "url = \"https://api.purpleair.com/v1/keys\"\n",
    "headers = {\"X-API-Key\": Read_Key}\n",
    "\n",
    "# Make the API request\n",
    "response = requests.get(url, headers=headers)\n",
    "\n",
    "# Print the API response\n",
    "print(response.json())\n"
   ]
  },
  {
   "cell_type": "markdown",
   "metadata": {},
   "source": [
    "#### Connection was successful "
   ]
  },
  {
   "cell_type": "markdown",
   "metadata": {},
   "source": [
    "### Next, Test pulling sensor data\n",
    "\n",
    "How to make a call : https://community.purpleair.com/t/making-api-calls-with-the-purpleair-api/180\n",
    "\n",
    "How to find sensor index : https://community.purpleair.com/t/sensor-index/4000"
   ]
  },
  {
   "cell_type": "code",
   "execution_count": 15,
   "metadata": {},
   "outputs": [],
   "source": [
    "#Sensor ID for testing\n",
    "sensor_index=\"165985\""
   ]
  },
  {
   "cell_type": "code",
   "execution_count": 16,
   "metadata": {},
   "outputs": [
    {
     "name": "stdout",
     "output_type": "stream",
     "text": [
      "{'api_version': 'V1.0.11-0.0.43', 'time_stamp': 1681937049, 'data_time_stamp': 1681936995, 'sensor': {'sensor_index': 165985, 'last_modified': 1676058454, 'date_created': 1665080329, 'last_seen': 1681936974, 'private': 0, 'is_owner': 0, 'name': 'MIAEH PurpleAir 5', 'icon': 0, 'location_type': 0, 'model': 'PA-II', 'hardware': '2.0+BME280+PMSX003-B+PMSX003-A', 'led_brightness': 50, 'firmware_version': '7.02', 'rssi': -68, 'uptime': 25246, 'pa_latency': 2169, 'memory': 16096, 'position_rating': 5, 'latitude': 38.993076, 'longitude': -76.943504, 'altitude': 119, 'channel_state': 3, 'channel_flags': 0, 'channel_flags_manual': 0, 'channel_flags_auto': 0, 'confidence': 100, 'confidence_auto': 100, 'confidence_manual': 100, 'humidity': 13, 'humidity_a': 13, 'temperature': 80, 'temperature_a': 80, 'pressure': 1014.1, 'pressure_a': 1014.1, 'analog_input': 0.02, 'pm1.0': 1.3, 'pm1.0_a': 1.0, 'pm1.0_b': 1.6, 'pm2.5': 2.2, 'pm2.5_a': 1.7, 'pm2.5_b': 2.6, 'pm2.5_alt': 1.8, 'pm2.5_alt_a': 1.7, 'pm2.5_alt_b': 1.9, 'pm10.0': 2.3, 'pm10.0_a': 2.0, 'pm10.0_b': 2.6, 'scattering_coefficient': 6.1, 'scattering_coefficient_a': 6.0, 'scattering_coefficient_b': 6.1, 'deciviews': 5.5, 'deciviews_a': 5.4, 'deciviews_b': 5.5, 'visual_range': 225.9, 'visual_range_a': 227.0, 'visual_range_b': 224.9, '0.3_um_count': 403, '0.3_um_count_a': 399, '0.3_um_count_b': 408, '0.5_um_count': 108, '0.5_um_count_a': 105, '0.5_um_count_b': 112, '1.0_um_count': 17, '1.0_um_count_a': 16, '1.0_um_count_b': 19, '2.5_um_count': 1, '2.5_um_count_a': 1, '2.5_um_count_b': 1, '5.0_um_count': 0, '5.0_um_count_a': 0, '5.0_um_count_b': 0, '10.0_um_count': 0, '10.0_um_count_a': 0, '10.0_um_count_b': 0, 'pm1.0_cf_1': 1.3, 'pm1.0_cf_1_a': 1.03, 'pm1.0_cf_1_b': 1.58, 'pm1.0_atm': 1.3, 'pm1.0_atm_a': 1.03, 'pm1.0_atm_b': 1.58, 'pm2.5_atm': 2.2, 'pm2.5_atm_a': 1.72, 'pm2.5_atm_b': 2.6, 'pm2.5_cf_1': 2.2, 'pm2.5_cf_1_a': 1.72, 'pm2.5_cf_1_b': 2.6, 'pm10.0_atm': 2.3, 'pm10.0_atm_a': 2.05, 'pm10.0_atm_b': 2.6, 'pm10.0_cf_1': 2.3, 'pm10.0_cf_1_a': 2.05, 'pm10.0_cf_1_b': 2.6, 'primary_id_a': 1885163, 'primary_key_a': 'INSJLBZ05L73ZWBW', 'primary_id_b': 1885168, 'primary_key_b': 'OK64N10RAQ441O9N', 'secondary_id_a': 1885164, 'secondary_key_a': 'G797Q6MZBD2KRD98', 'secondary_id_b': 1885171, 'secondary_key_b': 'ZOK0PC7B6BMQ5EVA', 'stats': {'pm2.5': 2.2, 'pm2.5_10minute': 2.4, 'pm2.5_30minute': 2.6, 'pm2.5_60minute': 2.8, 'pm2.5_6hour': 2.4, 'pm2.5_24hour': 3.0, 'pm2.5_1week': 4.9, 'time_stamp': 1681936974}, 'stats_a': {'pm2.5': 1.7, 'pm2.5_10minute': 2.1, 'pm2.5_30minute': 2.3, 'pm2.5_60minute': 2.5, 'pm2.5_6hour': 2.2, 'pm2.5_24hour': 2.8, 'pm2.5_1week': 4.6, 'time_stamp': 1681936974}, 'stats_b': {'pm2.5': 2.6, 'pm2.5_10minute': 2.6, 'pm2.5_30minute': 2.8, 'pm2.5_60minute': 3.0, 'pm2.5_6hour': 2.6, 'pm2.5_24hour': 3.2, 'pm2.5_1week': 5.2, 'time_stamp': 1681936974}}}\n"
     ]
    }
   ],
   "source": [
    "#new url for sensor data\n",
    "endpoint = \"https://api.purpleair.com/v1/sensors/\"\n",
    "\n",
    "# Define API headers with your X-API-Key\n",
    "headers = {\n",
    "    \"X-API-Key\": Read_Key\n",
    "}\n",
    "\n",
    "# Make API GET request\n",
    "response = requests.get(endpoint + sensor_index, headers=headers)\n",
    "\n",
    "# Check if request was successful\n",
    "if response.status_code == 200:\n",
    "    # Get data from response\n",
    "    data = response.json()\n",
    "    # Print data\n",
    "    print(data)\n",
    "else:\n",
    "    # Print error message\n",
    "    print(\"Error:\", response.status_code)"
   ]
  },
  {
   "cell_type": "markdown",
   "metadata": {},
   "source": [
    "#### Above is a raw output of the current metrics a sensor has. This seems problematic becuase no one on our team has knowledge on Air quality terms.\n",
    "\n",
    "#### We will learn these terms to then pull insihgts or at the very least be able to create a table for the data that we can pull. \n",
    "\n",
    "#### Next thing to do is attempt to pull multiple sensors at once, \n",
    "#### and pull historical data. https://community.purpleair.com/t/python-code-using-api-to-get-historical-data/956"
   ]
  },
  {
   "cell_type": "code",
   "execution_count": null,
   "metadata": {},
   "outputs": [],
   "source": []
  }
 ],
 "metadata": {
  "interpreter": {
   "hash": "aee8b7b246df8f9039afb4144a1f6fd8d2ca17a180786b69acc140d282b71a49"
  },
  "kernelspec": {
   "display_name": "Python 3.9.10 64-bit",
   "language": "python",
   "name": "python3"
  },
  "language_info": {
   "codemirror_mode": {
    "name": "ipython",
    "version": 3
   },
   "file_extension": ".py",
   "mimetype": "text/x-python",
   "name": "python",
   "nbconvert_exporter": "python",
   "pygments_lexer": "ipython3",
   "version": "3.9.10"
  },
  "orig_nbformat": 4
 },
 "nbformat": 4,
 "nbformat_minor": 2
}
