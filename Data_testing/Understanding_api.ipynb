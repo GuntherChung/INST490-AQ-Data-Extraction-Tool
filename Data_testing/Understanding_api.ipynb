{
 "cells": [
  {
   "cell_type": "markdown",
   "metadata": {},
   "source": [
    "# With this notebook, we will be trying to gain a better understanding of the Purple Air API."
   ]
  },
  {
   "cell_type": "code",
   "execution_count": 72,
   "metadata": {},
   "outputs": [],
   "source": [
    "#load in libraries\n",
    "import requests\n",
    "import json\n",
    "import pandas as pd\n",
    "import io\n",
    "import csv\n",
    "\n",
    "\n",
    "\n"
   ]
  },
  {
   "cell_type": "markdown",
   "metadata": {},
   "source": [
    "### Testing Api connection"
   ]
  },
  {
   "cell_type": "code",
   "execution_count": 2,
   "metadata": {},
   "outputs": [],
   "source": [
    "#authentication keys\n",
    "Read_Key = \"C7AF49F7-C3F6-11ED-B6F4-42010A800007\"\n",
    "Write_Key = \"C7B07520-C3F6-11ED-B6F4-42010A800007\""
   ]
  },
  {
   "cell_type": "code",
   "execution_count": 3,
   "metadata": {},
   "outputs": [
    {
     "name": "stdout",
     "output_type": "stream",
     "text": [
      "{'api_version': 'V1.0.11-0.0.44', 'time_stamp': 1683861438, 'api_key_type': 'READ'}\n"
     ]
    }
   ],
   "source": [
    "# Establish initial connection \n",
    "\n",
    "# Set up the API endpoint URL and headers\n",
    "url = \"https://api.purpleair.com/v1/keys\"\n",
    "headers = {\"X-API-Key\": Read_Key}\n",
    "\n",
    "# Make the API request\n",
    "response = requests.get(url, headers=headers)\n",
    "\n",
    "# Print the API response\n",
    "print(response.json())\n"
   ]
  },
  {
   "cell_type": "markdown",
   "metadata": {},
   "source": [
    "#### Connection was successful "
   ]
  },
  {
   "cell_type": "markdown",
   "metadata": {},
   "source": [
    "### Next, Test pulling sensor data\n",
    "\n",
    "How to make a call : https://community.purpleair.com/t/making-api-calls-with-the-purpleair-api/180\n",
    "\n",
    "How to find sensor index : https://community.purpleair.com/t/sensor-index/4000"
   ]
  },
  {
   "cell_type": "code",
   "execution_count": 4,
   "metadata": {},
   "outputs": [],
   "source": [
    "#Sensor ID for testing\n",
    "Union_Bethel_AME = \"133730#11.74\"\n",
    "William_S_Schmidt = \"134488#11.74\"\n",
    "\n",
    "sensor_id_dict = {\"Union_Bethel_AME\": \"133730#11.74\", \n",
    "                  \"William_S_Schmidt\": \"134488#11.74\",\n",
    "                  \"PGCPS_Schmidt_CenterBldg\": \"102898#11\",\n",
    "                  \"Surratsville_HS\": \"102852#11.05\",\n",
    "                  \"Oxon_Hill_HS\": \"104790#11.05\"} # Replace with your own sensor IDs and locations\n"
   ]
  },
  {
   "cell_type": "code",
   "execution_count": 5,
   "metadata": {},
   "outputs": [
    {
     "name": "stdout",
     "output_type": "stream",
     "text": [
      "{'api_version': 'V1.0.11-0.0.44', 'time_stamp': 1683861446, 'data_time_stamp': 1683861418, 'sensor': {'sensor_index': 133730, 'last_modified': 1676581473, 'date_created': 1634686448, 'last_seen': 1683861314, 'private': 0, 'is_owner': 0, 'name': 'Union Bethel AME', 'icon': 0, 'location_type': 0, 'model': 'PA-II-SD', 'hardware': '2.0+OPENLOG+NO-DISK+DS3231+BME280+PMSX003-B+PMSX003-A', 'led_brightness': 50, 'firmware_version': '7.02', 'rssi': -71, 'uptime': 48546, 'pa_latency': 203, 'memory': 15896, 'position_rating': 5, 'latitude': 38.70654, 'longitude': -76.8886, 'altitude': 236, 'channel_state': 3, 'channel_flags': 0, 'channel_flags_manual': 0, 'channel_flags_auto': 0, 'confidence': 100, 'confidence_auto': 100, 'confidence_manual': 100, 'humidity': 54, 'humidity_a': 54, 'temperature': 71, 'temperature_a': 71, 'pressure': 1012.73, 'pressure_a': 1012.73, 'analog_input': 0.0, 'pm1.0': 3.1, 'pm1.0_a': 2.7, 'pm1.0_b': 3.5, 'pm2.5': 6.0, 'pm2.5_a': 6.3, 'pm2.5_b': 5.7, 'pm2.5_alt': 3.8, 'pm2.5_alt_a': 4.5, 'pm2.5_alt_b': 3.0, 'pm10.0': 6.4, 'pm10.0_a': 6.5, 'pm10.0_b': 6.3, '0.3_um_count': 416, '0.3_um_count_a': 400, '0.3_um_count_b': 432, '0.5_um_count': 380, '0.5_um_count_a': 361, '0.5_um_count_b': 399, '1.0_um_count': 28, '1.0_um_count_a': 43, '1.0_um_count_b': 14, '2.5_um_count': 0, '2.5_um_count_a': 0, '2.5_um_count_b': 0, '5.0_um_count': 0, '5.0_um_count_a': 0, '5.0_um_count_b': 0, '10.0_um_count': 0, '10.0_um_count_a': 0, '10.0_um_count_b': 0, 'pm1.0_cf_1': 3.1, 'pm1.0_cf_1_a': 2.74, 'pm1.0_cf_1_b': 3.51, 'pm1.0_atm': 3.1, 'pm1.0_atm_a': 2.74, 'pm1.0_atm_b': 3.51, 'pm2.5_atm': 6.0, 'pm2.5_atm_a': 6.26, 'pm2.5_atm_b': 5.66, 'pm2.5_cf_1': 6.0, 'pm2.5_cf_1_a': 6.26, 'pm2.5_cf_1_b': 5.66, 'pm10.0_atm': 6.4, 'pm10.0_atm_a': 6.54, 'pm10.0_atm_b': 6.32, 'pm10.0_cf_1': 6.4, 'pm10.0_cf_1_a': 6.54, 'pm10.0_cf_1_b': 6.32, 'primary_id_a': 1541469, 'primary_key_a': 'IU2HW6FDQK1SH531', 'primary_id_b': 1541471, 'primary_key_b': 'RO6N26IO6VEURDEQ', 'secondary_id_a': 1541470, 'secondary_key_a': 'LIFPQUIL7RLAHIB5', 'secondary_id_b': 1541472, 'secondary_key_b': 'FOIHMPW2Z1R3QJR3', 'stats': {'pm2.5': 6.0, 'pm2.5_10minute': 6.4, 'pm2.5_30minute': 7.1, 'pm2.5_60minute': 7.7, 'pm2.5_6hour': 5.6, 'pm2.5_24hour': 4.4, 'pm2.5_1week': 3.9, 'time_stamp': 1683861314}, 'stats_a': {'pm2.5': 6.3, 'pm2.5_10minute': 6.7, 'pm2.5_30minute': 7.5, 'pm2.5_60minute': 8.2, 'pm2.5_6hour': 6.2, 'pm2.5_24hour': 4.8, 'pm2.5_1week': 4.1, 'time_stamp': 1683861314}, 'stats_b': {'pm2.5': 5.7, 'pm2.5_10minute': 6.0, 'pm2.5_30minute': 6.7, 'pm2.5_60minute': 7.2, 'pm2.5_6hour': 5.1, 'pm2.5_24hour': 4.1, 'pm2.5_1week': 3.7, 'time_stamp': 1683861314}}}\n"
     ]
    },
    {
     "data": {
      "text/plain": [
       "'{\\n  \"api_version\" : \"V1.0.11-0.0.44\",\\n  \"time_stamp\" : 1683861446,\\n  \"data_time_stamp\" : 1683861418,\\n  \"sensor\" : {\\n    \"sensor_index\" : 133730,\\n    \"last_modified\" : 1676581473,\\n    \"date_created\" : 1634686448,\\n    \"last_seen\" : 1683861314,\\n    \"private\" : 0,\\n    \"is_owner\" : 0,\\n    \"name\" : \"Union Bethel AME\",\\n    \"icon\" : 0,\\n    \"location_type\" : 0,\\n    \"model\" : \"PA-II-SD\",\\n    \"hardware\" : \"2.0+OPENLOG+NO-DISK+DS3231+BME280+PMSX003-B+PMSX003-A\",\\n    \"led_brightness\" : 50,\\n    \"firmware_version\" : \"7.02\",\\n    \"rssi\" : -71,\\n    \"uptime\" : 48546,\\n    \"pa_latency\" : 203,\\n    \"memory\" : 15896,\\n    \"position_rating\" : 5,\\n    \"latitude\" : 38.70654,\\n    \"longitude\" : -76.8886,\\n    \"altitude\" : 236,\\n    \"channel_state\" : 3,\\n    \"channel_flags\" : 0,\\n    \"channel_flags_manual\" : 0,\\n    \"channel_flags_auto\" : 0,\\n    \"confidence\" : 100,\\n    \"confidence_auto\" : 100,\\n    \"confidence_manual\" : 100,\\n    \"humidity\" : 54,\\n    \"humidity_a\" : 54,\\n    \"temperature\" : 71,\\n    \"temperature_a\" : 71,\\n    \"pressure\" : 1012.73,\\n    \"pressure_a\" : 1012.73,\\n    \"analog_input\" : 0.0,\\n    \"pm1.0\" : 3.1,\\n    \"pm1.0_a\" : 2.7,\\n    \"pm1.0_b\" : 3.5,\\n    \"pm2.5\" : 6.0,\\n    \"pm2.5_a\" : 6.3,\\n    \"pm2.5_b\" : 5.7,\\n    \"pm2.5_alt\" : 3.8,\\n    \"pm2.5_alt_a\" : 4.5,\\n    \"pm2.5_alt_b\" : 3.0,\\n    \"pm10.0\" : 6.4,\\n    \"pm10.0_a\" : 6.5,\\n    \"pm10.0_b\" : 6.3,\\n    \"0.3_um_count\" : 416,\\n    \"0.3_um_count_a\" : 400,\\n    \"0.3_um_count_b\" : 432,\\n    \"0.5_um_count\" : 380,\\n    \"0.5_um_count_a\" : 361,\\n    \"0.5_um_count_b\" : 399,\\n    \"1.0_um_count\" : 28,\\n    \"1.0_um_count_a\" : 43,\\n    \"1.0_um_count_b\" : 14,\\n    \"2.5_um_count\" : 0,\\n    \"2.5_um_count_a\" : 0,\\n    \"2.5_um_count_b\" : 0,\\n    \"5.0_um_count\" : 0,\\n    \"5.0_um_count_a\" : 0,\\n    \"5.0_um_count_b\" : 0,\\n    \"10.0_um_count\" : 0,\\n    \"10.0_um_count_a\" : 0,\\n    \"10.0_um_count_b\" : 0,\\n    \"pm1.0_cf_1\" : 3.1,\\n    \"pm1.0_cf_1_a\" : 2.74,\\n    \"pm1.0_cf_1_b\" : 3.51,\\n    \"pm1.0_atm\" : 3.1,\\n    \"pm1.0_atm_a\" : 2.74,\\n    \"pm1.0_atm_b\" : 3.51,\\n    \"pm2.5_atm\" : 6.0,\\n    \"pm2.5_atm_a\" : 6.26,\\n    \"pm2.5_atm_b\" : 5.66,\\n    \"pm2.5_cf_1\" : 6.0,\\n    \"pm2.5_cf_1_a\" : 6.26,\\n    \"pm2.5_cf_1_b\" : 5.66,\\n    \"pm10.0_atm\" : 6.4,\\n    \"pm10.0_atm_a\" : 6.54,\\n    \"pm10.0_atm_b\" : 6.32,\\n    \"pm10.0_cf_1\" : 6.4,\\n    \"pm10.0_cf_1_a\" : 6.54,\\n    \"pm10.0_cf_1_b\" : 6.32,\\n    \"primary_id_a\" : 1541469,\\n    \"primary_key_a\" : \"IU2HW6FDQK1SH531\",\\n    \"primary_id_b\" : 1541471,\\n    \"primary_key_b\" : \"RO6N26IO6VEURDEQ\",\\n    \"secondary_id_a\" : 1541470,\\n    \"secondary_key_a\" : \"LIFPQUIL7RLAHIB5\",\\n    \"secondary_id_b\" : 1541472,\\n    \"secondary_key_b\" : \"FOIHMPW2Z1R3QJR3\",\\n    \"stats\" : {\"pm2.5\" : 6.0, \"pm2.5_10minute\" : 6.4, \"pm2.5_30minute\" : 7.1, \"pm2.5_60minute\" : 7.7, \"pm2.5_6hour\" : 5.6, \"pm2.5_24hour\" : 4.4, \"pm2.5_1week\" : 3.9, \"time_stamp\" : 1683861314},\\n    \"stats_a\" : {\"pm2.5\" : 6.3, \"pm2.5_10minute\" : 6.7, \"pm2.5_30minute\" : 7.5, \"pm2.5_60minute\" : 8.2, \"pm2.5_6hour\" : 6.2, \"pm2.5_24hour\" : 4.8, \"pm2.5_1week\" : 4.1, \"time_stamp\" : 1683861314},\\n    \"stats_b\" : {\"pm2.5\" : 5.7, \"pm2.5_10minute\" : 6.0, \"pm2.5_30minute\" : 6.7, \"pm2.5_60minute\" : 7.2, \"pm2.5_6hour\" : 5.1, \"pm2.5_24hour\" : 4.1, \"pm2.5_1week\" : 3.7, \"time_stamp\" : 1683861314}\\n  }\\n}'"
      ]
     },
     "execution_count": 5,
     "metadata": {},
     "output_type": "execute_result"
    }
   ],
   "source": [
    "#new url for sensor data\n",
    "endpoint = \"https://api.purpleair.com/v1/sensors/\"\n",
    "\n",
    "# Define API headers with your X-API-Key\n",
    "headers = {\n",
    "    \"X-API-Key\": Read_Key\n",
    "}\n",
    "\n",
    "# Make API GET request\n",
    "response = requests.get(endpoint + Union_Bethel_AME, headers=headers)\n",
    "\n",
    "# Check if request was successful\n",
    "if response.status_code == 200:\n",
    "    # Get data from response\n",
    "    data = response.json()\n",
    "    # Print data\n",
    "    print(data)\n",
    "else:\n",
    "    # Print error message\n",
    "    print(\"Error:\", response.status_code)\n",
    "    \n",
    "response.text"
   ]
  },
  {
   "cell_type": "markdown",
   "metadata": {},
   "source": [
    "#### Above is a raw output of the current metrics a sensor has. This seems problematic becuase no one on our team has knowledge on Air quality terms.\n",
    "\n",
    "#### We will learn these terms to then pull insihgts or at the very least be able to create a table for the data that we can pull. \n",
    "\n",
    "#### Next thing to do is attempt to pull multiple sensors at once, \n",
    "#### and pull historical data. https://api.purpleair.com/#api-sensors-get-sensor-history"
   ]
  },
  {
   "cell_type": "code",
   "execution_count": 82,
   "metadata": {},
   "outputs": [],
   "source": [
    "def get_sensor_history(sensor_id):\n",
    "    url = f\"https://api.purpleair.com/v1/sensors/{sensor_id}/history?fields=pm2.5&averaging=10&format=csv&results=20\"\n",
    "    response = requests.get(url, headers=headers)\n",
    "    if response.ok:\n",
    "        data = pd.read_csv(io.StringIO(response.text), skiprows=10, delimiter=\",\")\n",
    "        return data\n",
    "    else:\n",
    "        print(f\"Request failed with status code {response.status_code}\")\n",
    "        return None"
   ]
  },
  {
   "cell_type": "code",
   "execution_count": 83,
   "metadata": {},
   "outputs": [
    {
     "ename": "ParserError",
     "evalue": "Error tokenizing data. C error: Expected 2 fields in line 97, saw 9\n",
     "output_type": "error",
     "traceback": [
      "\u001b[1;31m---------------------------------------------------------------------------\u001b[0m",
      "\u001b[1;31mParserError\u001b[0m                               Traceback (most recent call last)",
      "Cell \u001b[1;32mIn[83], line 1\u001b[0m\n\u001b[1;32m----> 1\u001b[0m test \u001b[39m=\u001b[39m get_sensor_history(sensor_id_dict[\u001b[39m\"\u001b[39;49m\u001b[39mUnion_Bethel_AME\u001b[39;49m\u001b[39m\"\u001b[39;49m])\n\u001b[0;32m      2\u001b[0m test\n",
      "Cell \u001b[1;32mIn[82], line 5\u001b[0m, in \u001b[0;36mget_sensor_history\u001b[1;34m(sensor_id)\u001b[0m\n\u001b[0;32m      3\u001b[0m response \u001b[39m=\u001b[39m requests\u001b[39m.\u001b[39mget(url, headers\u001b[39m=\u001b[39mheaders)\n\u001b[0;32m      4\u001b[0m \u001b[39mif\u001b[39;00m response\u001b[39m.\u001b[39mok:\n\u001b[1;32m----> 5\u001b[0m     data \u001b[39m=\u001b[39m pd\u001b[39m.\u001b[39;49mread_csv(io\u001b[39m.\u001b[39;49mStringIO(response\u001b[39m.\u001b[39;49mtext), skiprows\u001b[39m=\u001b[39;49m\u001b[39m10\u001b[39;49m, delimiter\u001b[39m=\u001b[39;49m\u001b[39m\"\u001b[39;49m\u001b[39m,\u001b[39;49m\u001b[39m\"\u001b[39;49m)\n\u001b[0;32m      6\u001b[0m     \u001b[39mreturn\u001b[39;00m data\n\u001b[0;32m      7\u001b[0m \u001b[39melse\u001b[39;00m:\n",
      "File \u001b[1;32mc:\\Users\\danie\\AppData\\Local\\Programs\\Python\\Python311\\Lib\\site-packages\\pandas\\io\\parsers\\readers.py:912\u001b[0m, in \u001b[0;36mread_csv\u001b[1;34m(filepath_or_buffer, sep, delimiter, header, names, index_col, usecols, dtype, engine, converters, true_values, false_values, skipinitialspace, skiprows, skipfooter, nrows, na_values, keep_default_na, na_filter, verbose, skip_blank_lines, parse_dates, infer_datetime_format, keep_date_col, date_parser, date_format, dayfirst, cache_dates, iterator, chunksize, compression, thousands, decimal, lineterminator, quotechar, quoting, doublequote, escapechar, comment, encoding, encoding_errors, dialect, on_bad_lines, delim_whitespace, low_memory, memory_map, float_precision, storage_options, dtype_backend)\u001b[0m\n\u001b[0;32m    899\u001b[0m kwds_defaults \u001b[39m=\u001b[39m _refine_defaults_read(\n\u001b[0;32m    900\u001b[0m     dialect,\n\u001b[0;32m    901\u001b[0m     delimiter,\n\u001b[1;32m   (...)\u001b[0m\n\u001b[0;32m    908\u001b[0m     dtype_backend\u001b[39m=\u001b[39mdtype_backend,\n\u001b[0;32m    909\u001b[0m )\n\u001b[0;32m    910\u001b[0m kwds\u001b[39m.\u001b[39mupdate(kwds_defaults)\n\u001b[1;32m--> 912\u001b[0m \u001b[39mreturn\u001b[39;00m _read(filepath_or_buffer, kwds)\n",
      "File \u001b[1;32mc:\\Users\\danie\\AppData\\Local\\Programs\\Python\\Python311\\Lib\\site-packages\\pandas\\io\\parsers\\readers.py:583\u001b[0m, in \u001b[0;36m_read\u001b[1;34m(filepath_or_buffer, kwds)\u001b[0m\n\u001b[0;32m    580\u001b[0m     \u001b[39mreturn\u001b[39;00m parser\n\u001b[0;32m    582\u001b[0m \u001b[39mwith\u001b[39;00m parser:\n\u001b[1;32m--> 583\u001b[0m     \u001b[39mreturn\u001b[39;00m parser\u001b[39m.\u001b[39;49mread(nrows)\n",
      "File \u001b[1;32mc:\\Users\\danie\\AppData\\Local\\Programs\\Python\\Python311\\Lib\\site-packages\\pandas\\io\\parsers\\readers.py:1704\u001b[0m, in \u001b[0;36mTextFileReader.read\u001b[1;34m(self, nrows)\u001b[0m\n\u001b[0;32m   1697\u001b[0m nrows \u001b[39m=\u001b[39m validate_integer(\u001b[39m\"\u001b[39m\u001b[39mnrows\u001b[39m\u001b[39m\"\u001b[39m, nrows)\n\u001b[0;32m   1698\u001b[0m \u001b[39mtry\u001b[39;00m:\n\u001b[0;32m   1699\u001b[0m     \u001b[39m# error: \"ParserBase\" has no attribute \"read\"\u001b[39;00m\n\u001b[0;32m   1700\u001b[0m     (\n\u001b[0;32m   1701\u001b[0m         index,\n\u001b[0;32m   1702\u001b[0m         columns,\n\u001b[0;32m   1703\u001b[0m         col_dict,\n\u001b[1;32m-> 1704\u001b[0m     ) \u001b[39m=\u001b[39m \u001b[39mself\u001b[39;49m\u001b[39m.\u001b[39;49m_engine\u001b[39m.\u001b[39;49mread(  \u001b[39m# type: ignore[attr-defined]\u001b[39;49;00m\n\u001b[0;32m   1705\u001b[0m         nrows\n\u001b[0;32m   1706\u001b[0m     )\n\u001b[0;32m   1707\u001b[0m \u001b[39mexcept\u001b[39;00m \u001b[39mException\u001b[39;00m:\n\u001b[0;32m   1708\u001b[0m     \u001b[39mself\u001b[39m\u001b[39m.\u001b[39mclose()\n",
      "File \u001b[1;32mc:\\Users\\danie\\AppData\\Local\\Programs\\Python\\Python311\\Lib\\site-packages\\pandas\\io\\parsers\\c_parser_wrapper.py:234\u001b[0m, in \u001b[0;36mCParserWrapper.read\u001b[1;34m(self, nrows)\u001b[0m\n\u001b[0;32m    232\u001b[0m \u001b[39mtry\u001b[39;00m:\n\u001b[0;32m    233\u001b[0m     \u001b[39mif\u001b[39;00m \u001b[39mself\u001b[39m\u001b[39m.\u001b[39mlow_memory:\n\u001b[1;32m--> 234\u001b[0m         chunks \u001b[39m=\u001b[39m \u001b[39mself\u001b[39m\u001b[39m.\u001b[39m_reader\u001b[39m.\u001b[39mread_low_memory(nrows)\n\u001b[0;32m    235\u001b[0m         \u001b[39m# destructive to chunks\u001b[39;00m\n\u001b[0;32m    236\u001b[0m         data \u001b[39m=\u001b[39m _concatenate_chunks(chunks)\n",
      "File \u001b[1;32mc:\\Users\\danie\\AppData\\Local\\Programs\\Python\\Python311\\Lib\\site-packages\\pandas\\_libs\\parsers.pyx:812\u001b[0m, in \u001b[0;36mpandas._libs.parsers.TextReader.read_low_memory\u001b[1;34m()\u001b[0m\n",
      "File \u001b[1;32mc:\\Users\\danie\\AppData\\Local\\Programs\\Python\\Python311\\Lib\\site-packages\\pandas\\_libs\\parsers.pyx:873\u001b[0m, in \u001b[0;36mpandas._libs.parsers.TextReader._read_rows\u001b[1;34m()\u001b[0m\n",
      "File \u001b[1;32mc:\\Users\\danie\\AppData\\Local\\Programs\\Python\\Python311\\Lib\\site-packages\\pandas\\_libs\\parsers.pyx:848\u001b[0m, in \u001b[0;36mpandas._libs.parsers.TextReader._tokenize_rows\u001b[1;34m()\u001b[0m\n",
      "File \u001b[1;32mc:\\Users\\danie\\AppData\\Local\\Programs\\Python\\Python311\\Lib\\site-packages\\pandas\\_libs\\parsers.pyx:859\u001b[0m, in \u001b[0;36mpandas._libs.parsers.TextReader._check_tokenize_status\u001b[1;34m()\u001b[0m\n",
      "File \u001b[1;32mc:\\Users\\danie\\AppData\\Local\\Programs\\Python\\Python311\\Lib\\site-packages\\pandas\\_libs\\parsers.pyx:2025\u001b[0m, in \u001b[0;36mpandas._libs.parsers.raise_parser_error\u001b[1;34m()\u001b[0m\n",
      "\u001b[1;31mParserError\u001b[0m: Error tokenizing data. C error: Expected 2 fields in line 97, saw 9\n"
     ]
    }
   ],
   "source": [
    "test = get_sensor_history(sensor_id_dict[\"Union_Bethel_AME\"])\n",
    "test"
   ]
  },
  {
   "cell_type": "code",
   "execution_count": 79,
   "metadata": {},
   "outputs": [
    {
     "data": {
      "text/plain": [
       "  \"api_version\" : \"V1.0.11-0.0.44\"           NaN\n",
       "  \"time_stamp\" : 1683864292                  NaN\n",
       "  \"data_time_stamp\" : 1683864262             NaN\n",
       "  \"sensor\" : {                               NaN\n",
       "    \"sensor_index\" : 133730                  NaN\n",
       "                                              ..\n",
       "    \"secondary_key_a\" : \"LIFPQUIL7RLAHIB5\"   NaN\n",
       "    \"secondary_id_b\" : 1541472               NaN\n",
       "    \"secondary_key_b\" : \"FOIHMPW2Z1R3QJR3\"   NaN\n",
       "  }                                          NaN\n",
       "}                                            NaN\n",
       "Name: {, Length: 97, dtype: float64"
      ]
     },
     "execution_count": 79,
     "metadata": {},
     "output_type": "execute_result"
    }
   ],
   "source": [
    "test[\"{\"]"
   ]
  }
 ],
 "metadata": {
  "interpreter": {
   "hash": "aee8b7b246df8f9039afb4144a1f6fd8d2ca17a180786b69acc140d282b71a49"
  },
  "kernelspec": {
   "display_name": "Python 3.9.10 64-bit",
   "language": "python",
   "name": "python3"
  },
  "language_info": {
   "codemirror_mode": {
    "name": "ipython",
    "version": 3
   },
   "file_extension": ".py",
   "mimetype": "text/x-python",
   "name": "python",
   "nbconvert_exporter": "python",
   "pygments_lexer": "ipython3",
   "version": "3.11.3"
  },
  "orig_nbformat": 4
 },
 "nbformat": 4,
 "nbformat_minor": 2
}
