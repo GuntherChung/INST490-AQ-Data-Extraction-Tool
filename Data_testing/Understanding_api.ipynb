{
 "cells": [
  {
   "cell_type": "markdown",
   "metadata": {},
   "source": [
    "# With this notebook, we will be trying to gain a better understanding of the Purple Air API."
   ]
  },
  {
   "cell_type": "code",
   "execution_count": 2,
   "metadata": {},
   "outputs": [],
   "source": [
    "#load in libraries\n",
    "import requests\n",
    "import json\n",
    "import pandas as pd\n"
   ]
  },
  {
   "cell_type": "markdown",
   "metadata": {},
   "source": [
    "### Testing Api connection"
   ]
  },
  {
   "cell_type": "code",
   "execution_count": 3,
   "metadata": {},
   "outputs": [],
   "source": [
    "#authentication keys\n",
    "Read_Key = \"C7AF49F7-C3F6-11ED-B6F4-42010A800007\"\n",
    "Write_Key = \"C7B07520-C3F6-11ED-B6F4-42010A800007\""
   ]
  },
  {
   "cell_type": "code",
   "execution_count": 4,
   "metadata": {},
   "outputs": [
    {
     "name": "stdout",
     "output_type": "stream",
     "text": [
      "{'api_version': 'V1.0.11-0.0.44', 'time_stamp': 1683721300, 'api_key_type': 'READ'}\n"
     ]
    }
   ],
   "source": [
    "# Establish initial connection \n",
    "\n",
    "# Set up the API endpoint URL and headers\n",
    "url = \"https://api.purpleair.com/v1/keys\"\n",
    "headers = {\"X-API-Key\": Read_Key}\n",
    "\n",
    "# Make the API request\n",
    "response = requests.get(url, headers=headers)\n",
    "\n",
    "# Print the API response\n",
    "print(response.json())\n"
   ]
  },
  {
   "cell_type": "markdown",
   "metadata": {},
   "source": [
    "#### Connection was successful "
   ]
  },
  {
   "cell_type": "markdown",
   "metadata": {},
   "source": [
    "### Next, Test pulling sensor data\n",
    "\n",
    "How to make a call : https://community.purpleair.com/t/making-api-calls-with-the-purpleair-api/180\n",
    "\n",
    "How to find sensor index : https://community.purpleair.com/t/sensor-index/4000"
   ]
  },
  {
   "cell_type": "code",
   "execution_count": 5,
   "metadata": {},
   "outputs": [],
   "source": [
    "#Sensor ID for testing\n",
    "Union_Bethel_AME = \"133730#11.74\"\n",
    "William_S_Schmidt = \"134488#11.74\"\n",
    "\n",
    "sensor_id_dict = {\"Union_Bethel_AME\": \"133730#11.74\", \n",
    "                  \"William_S_Schmidt\": \"134488#11.74\",\n",
    "                  \"PGCPS_Schmidt_CenterBldg\": \"102898#11\",\n",
    "                  \"Surratsville_HS\": \"102852#11.05\",\n",
    "                  \"Oxon_Hill_HS\": \"104790#11.05\"} # Replace with your own sensor IDs and locations\n"
   ]
  },
  {
   "cell_type": "code",
   "execution_count": 6,
   "metadata": {},
   "outputs": [
    {
     "name": "stdout",
     "output_type": "stream",
     "text": [
      "{'api_version': 'V1.0.11-0.0.44', 'time_stamp': 1683721305, 'data_time_stamp': 1683721253, 'sensor': {'sensor_index': 133730, 'last_modified': 1676581473, 'date_created': 1634686448, 'last_seen': 1683721135, 'private': 0, 'is_owner': 0, 'name': 'Union Bethel AME', 'icon': 0, 'location_type': 0, 'model': 'PA-II-SD', 'hardware': '2.0+OPENLOG+NO-DISK+DS3231+BME280+PMSX003-B+PMSX003-A', 'led_brightness': 50, 'firmware_version': '7.02', 'rssi': -71, 'uptime': 46209, 'pa_latency': 203, 'memory': 15896, 'position_rating': 5, 'latitude': 38.70654, 'longitude': -76.8886, 'altitude': 236, 'channel_state': 3, 'channel_flags': 0, 'channel_flags_manual': 0, 'channel_flags_auto': 0, 'confidence': 100, 'confidence_auto': 100, 'confidence_manual': 100, 'humidity': 52, 'humidity_a': 52, 'temperature': 63, 'temperature_a': 63, 'pressure': 1014.57, 'pressure_a': 1014.57, 'analog_input': 0.0, 'pm1.0': 0.8, 'pm1.0_a': 1.4, 'pm1.0_b': 0.2, 'pm2.5': 3.3, 'pm2.5_a': 3.7, 'pm2.5_b': 2.9, 'pm2.5_alt': 2.2, 'pm2.5_alt_a': 2.3, 'pm2.5_alt_b': 2.1, 'pm10.0': 3.7, 'pm10.0_a': 4.2, 'pm10.0_b': 3.2, '0.3_um_count': 294, '0.3_um_count_a': 288, '0.3_um_count_b': 301, '0.5_um_count': 264, '0.5_um_count_a': 250, '0.5_um_count_b': 279, '1.0_um_count': 12, '1.0_um_count_a': 15, '1.0_um_count_b': 9, '2.5_um_count': 0, '2.5_um_count_a': 0, '2.5_um_count_b': 0, '5.0_um_count': 0, '5.0_um_count_a': 0, '5.0_um_count_b': 0, '10.0_um_count': 0, '10.0_um_count_a': 0, '10.0_um_count_b': 0, 'pm1.0_cf_1': 0.8, 'pm1.0_cf_1_a': 1.37, 'pm1.0_cf_1_b': 0.15, 'pm1.0_atm': 0.8, 'pm1.0_atm_a': 1.37, 'pm1.0_atm_b': 0.15, 'pm2.5_atm': 3.3, 'pm2.5_atm_a': 3.7, 'pm2.5_atm_b': 2.93, 'pm2.5_cf_1': 3.3, 'pm2.5_cf_1_a': 3.7, 'pm2.5_cf_1_b': 2.93, 'pm10.0_atm': 3.7, 'pm10.0_atm_a': 4.19, 'pm10.0_atm_b': 3.15, 'pm10.0_cf_1': 3.7, 'pm10.0_cf_1_a': 4.19, 'pm10.0_cf_1_b': 3.15, 'primary_id_a': 1541469, 'primary_key_a': 'IU2HW6FDQK1SH531', 'primary_id_b': 1541471, 'primary_key_b': 'RO6N26IO6VEURDEQ', 'secondary_id_a': 1541470, 'secondary_key_a': 'LIFPQUIL7RLAHIB5', 'secondary_id_b': 1541472, 'secondary_key_b': 'FOIHMPW2Z1R3QJR3', 'stats': {'pm2.5': 3.3, 'pm2.5_10minute': 3.6, 'pm2.5_30minute': 4.1, 'pm2.5_60minute': 4.1, 'pm2.5_6hour': 3.3, 'pm2.5_24hour': 4.6, 'pm2.5_1week': 3.9, 'time_stamp': 1683721135}, 'stats_a': {'pm2.5': 3.7, 'pm2.5_10minute': 4.1, 'pm2.5_30minute': 4.6, 'pm2.5_60minute': 4.6, 'pm2.5_6hour': 3.7, 'pm2.5_24hour': 4.7, 'pm2.5_1week': 4.1, 'time_stamp': 1683721135}, 'stats_b': {'pm2.5': 2.9, 'pm2.5_10minute': 3.0, 'pm2.5_30minute': 3.6, 'pm2.5_60minute': 3.6, 'pm2.5_6hour': 2.9, 'pm2.5_24hour': 4.4, 'pm2.5_1week': 3.7, 'time_stamp': 1683721135}}}\n"
     ]
    },
    {
     "data": {
      "text/plain": [
       "'{\\n  \"api_version\" : \"V1.0.11-0.0.44\",\\n  \"time_stamp\" : 1683721305,\\n  \"data_time_stamp\" : 1683721253,\\n  \"sensor\" : {\\n    \"sensor_index\" : 133730,\\n    \"last_modified\" : 1676581473,\\n    \"date_created\" : 1634686448,\\n    \"last_seen\" : 1683721135,\\n    \"private\" : 0,\\n    \"is_owner\" : 0,\\n    \"name\" : \"Union Bethel AME\",\\n    \"icon\" : 0,\\n    \"location_type\" : 0,\\n    \"model\" : \"PA-II-SD\",\\n    \"hardware\" : \"2.0+OPENLOG+NO-DISK+DS3231+BME280+PMSX003-B+PMSX003-A\",\\n    \"led_brightness\" : 50,\\n    \"firmware_version\" : \"7.02\",\\n    \"rssi\" : -71,\\n    \"uptime\" : 46209,\\n    \"pa_latency\" : 203,\\n    \"memory\" : 15896,\\n    \"position_rating\" : 5,\\n    \"latitude\" : 38.70654,\\n    \"longitude\" : -76.8886,\\n    \"altitude\" : 236,\\n    \"channel_state\" : 3,\\n    \"channel_flags\" : 0,\\n    \"channel_flags_manual\" : 0,\\n    \"channel_flags_auto\" : 0,\\n    \"confidence\" : 100,\\n    \"confidence_auto\" : 100,\\n    \"confidence_manual\" : 100,\\n    \"humidity\" : 52,\\n    \"humidity_a\" : 52,\\n    \"temperature\" : 63,\\n    \"temperature_a\" : 63,\\n    \"pressure\" : 1014.57,\\n    \"pressure_a\" : 1014.57,\\n    \"analog_input\" : 0.0,\\n    \"pm1.0\" : 0.8,\\n    \"pm1.0_a\" : 1.4,\\n    \"pm1.0_b\" : 0.2,\\n    \"pm2.5\" : 3.3,\\n    \"pm2.5_a\" : 3.7,\\n    \"pm2.5_b\" : 2.9,\\n    \"pm2.5_alt\" : 2.2,\\n    \"pm2.5_alt_a\" : 2.3,\\n    \"pm2.5_alt_b\" : 2.1,\\n    \"pm10.0\" : 3.7,\\n    \"pm10.0_a\" : 4.2,\\n    \"pm10.0_b\" : 3.2,\\n    \"0.3_um_count\" : 294,\\n    \"0.3_um_count_a\" : 288,\\n    \"0.3_um_count_b\" : 301,\\n    \"0.5_um_count\" : 264,\\n    \"0.5_um_count_a\" : 250,\\n    \"0.5_um_count_b\" : 279,\\n    \"1.0_um_count\" : 12,\\n    \"1.0_um_count_a\" : 15,\\n    \"1.0_um_count_b\" : 9,\\n    \"2.5_um_count\" : 0,\\n    \"2.5_um_count_a\" : 0,\\n    \"2.5_um_count_b\" : 0,\\n    \"5.0_um_count\" : 0,\\n    \"5.0_um_count_a\" : 0,\\n    \"5.0_um_count_b\" : 0,\\n    \"10.0_um_count\" : 0,\\n    \"10.0_um_count_a\" : 0,\\n    \"10.0_um_count_b\" : 0,\\n    \"pm1.0_cf_1\" : 0.8,\\n    \"pm1.0_cf_1_a\" : 1.37,\\n    \"pm1.0_cf_1_b\" : 0.15,\\n    \"pm1.0_atm\" : 0.8,\\n    \"pm1.0_atm_a\" : 1.37,\\n    \"pm1.0_atm_b\" : 0.15,\\n    \"pm2.5_atm\" : 3.3,\\n    \"pm2.5_atm_a\" : 3.7,\\n    \"pm2.5_atm_b\" : 2.93,\\n    \"pm2.5_cf_1\" : 3.3,\\n    \"pm2.5_cf_1_a\" : 3.7,\\n    \"pm2.5_cf_1_b\" : 2.93,\\n    \"pm10.0_atm\" : 3.7,\\n    \"pm10.0_atm_a\" : 4.19,\\n    \"pm10.0_atm_b\" : 3.15,\\n    \"pm10.0_cf_1\" : 3.7,\\n    \"pm10.0_cf_1_a\" : 4.19,\\n    \"pm10.0_cf_1_b\" : 3.15,\\n    \"primary_id_a\" : 1541469,\\n    \"primary_key_a\" : \"IU2HW6FDQK1SH531\",\\n    \"primary_id_b\" : 1541471,\\n    \"primary_key_b\" : \"RO6N26IO6VEURDEQ\",\\n    \"secondary_id_a\" : 1541470,\\n    \"secondary_key_a\" : \"LIFPQUIL7RLAHIB5\",\\n    \"secondary_id_b\" : 1541472,\\n    \"secondary_key_b\" : \"FOIHMPW2Z1R3QJR3\",\\n    \"stats\" : {\"pm2.5\" : 3.3, \"pm2.5_10minute\" : 3.6, \"pm2.5_30minute\" : 4.1, \"pm2.5_60minute\" : 4.1, \"pm2.5_6hour\" : 3.3, \"pm2.5_24hour\" : 4.6, \"pm2.5_1week\" : 3.9, \"time_stamp\" : 1683721135},\\n    \"stats_a\" : {\"pm2.5\" : 3.7, \"pm2.5_10minute\" : 4.1, \"pm2.5_30minute\" : 4.6, \"pm2.5_60minute\" : 4.6, \"pm2.5_6hour\" : 3.7, \"pm2.5_24hour\" : 4.7, \"pm2.5_1week\" : 4.1, \"time_stamp\" : 1683721135},\\n    \"stats_b\" : {\"pm2.5\" : 2.9, \"pm2.5_10minute\" : 3.0, \"pm2.5_30minute\" : 3.6, \"pm2.5_60minute\" : 3.6, \"pm2.5_6hour\" : 2.9, \"pm2.5_24hour\" : 4.4, \"pm2.5_1week\" : 3.7, \"time_stamp\" : 1683721135}\\n  }\\n}'"
      ]
     },
     "execution_count": 6,
     "metadata": {},
     "output_type": "execute_result"
    }
   ],
   "source": [
    "#new url for sensor data\n",
    "endpoint = \"https://api.purpleair.com/v1/sensors/\"\n",
    "\n",
    "# Define API headers with your X-API-Key\n",
    "headers = {\n",
    "    \"X-API-Key\": Read_Key\n",
    "}\n",
    "\n",
    "# Make API GET request\n",
    "response = requests.get(endpoint + Union_Bethel_AME, headers=headers)\n",
    "\n",
    "# Check if request was successful\n",
    "if response.status_code == 200:\n",
    "    # Get data from response\n",
    "    data = response.json()\n",
    "    # Print data\n",
    "    print(data)\n",
    "else:\n",
    "    # Print error message\n",
    "    print(\"Error:\", response.status_code)\n",
    "    \n",
    "response.text"
   ]
  },
  {
   "cell_type": "markdown",
   "metadata": {},
   "source": [
    "#### Above is a raw output of the current metrics a sensor has. This seems problematic becuase no one on our team has knowledge on Air quality terms.\n",
    "\n",
    "#### We will learn these terms to then pull insihgts or at the very least be able to create a table for the data that we can pull. \n",
    "\n",
    "#### Next thing to do is attempt to pull multiple sensors at once, \n",
    "#### and pull historical data. https://api.purpleair.com/#api-sensors-get-sensor-history"
   ]
  },
  {
   "cell_type": "code",
   "execution_count": 7,
   "metadata": {},
   "outputs": [],
   "source": [
    "\n",
    "def Histrocial_call_link (sensor_ids, start=\"1weekago\", end=\"now\", interval=\"hourly\"):\n",
    "    if isinstance(sensor_ids, str):\n",
    "        sensor_ids = [sensor_ids]\n",
    "    data_dict = {}\n",
    "    for sensor_id in sensor_ids:\n",
    "        url = f\"https://api.purpleair.com/v1/sensors/{sensor_id}/stats?from={start}&to={end}&interval={interval}\"\n",
    "        response = requests.get(url, headers=headers)\n",
    "        data_dict[sensor_id] = response.json()\n",
    "    return data_dict"
   ]
  },
  {
   "cell_type": "code",
   "execution_count": 8,
   "metadata": {},
   "outputs": [
    {
     "name": "stdout",
     "output_type": "stream",
     "text": [
      "{'133730#11.74': {'api_version': 'V1.0.11-0.0.44', 'time_stamp': 1683721310, 'data_time_stamp': 1683721261, 'sensor': {'sensor_index': 133730, 'last_modified': 1676581473, 'date_created': 1634686448, 'last_seen': 1683721254, 'private': 0, 'is_owner': 0, 'name': 'Union Bethel AME', 'icon': 0, 'location_type': 0, 'model': 'PA-II-SD', 'hardware': '2.0+OPENLOG+NO-DISK+DS3231+BME280+PMSX003-B+PMSX003-A', 'led_brightness': 50, 'firmware_version': '7.02', 'rssi': -70, 'uptime': 46211, 'pa_latency': 195, 'memory': 15896, 'position_rating': 5, 'latitude': 38.70654, 'longitude': -76.8886, 'altitude': 236, 'channel_state': 3, 'channel_flags': 0, 'channel_flags_manual': 0, 'channel_flags_auto': 0, 'confidence': 100, 'confidence_auto': 100, 'confidence_manual': 100, 'humidity': 51, 'humidity_a': 51, 'temperature': 63, 'temperature_a': 63, 'pressure': 1014.54, 'pressure_a': 1014.54, 'analog_input': 0.0, 'pm1.0': 0.6, 'pm1.0_a': 1.0, 'pm1.0_b': 0.1, 'pm2.5': 4.0, 'pm2.5_a': 4.4, 'pm2.5_b': 3.6, 'pm2.5_alt': 2.4, 'pm2.5_alt_a': 2.6, 'pm2.5_alt_b': 2.1, 'pm10.0': 4.2, 'pm10.0_a': 4.8, 'pm10.0_b': 3.6, '0.3_um_count': 320, '0.3_um_count_a': 317, '0.3_um_count_b': 323, '0.5_um_count': 291, '0.5_um_count_a': 285, '0.5_um_count_b': 298, '1.0_um_count': 13, '1.0_um_count_a': 18, '1.0_um_count_b': 8, '2.5_um_count': 0, '2.5_um_count_a': 0, '2.5_um_count_b': 0, '5.0_um_count': 0, '5.0_um_count_a': 0, '5.0_um_count_b': 0, '10.0_um_count': 0, '10.0_um_count_a': 0, '10.0_um_count_b': 0, 'pm1.0_cf_1': 0.6, 'pm1.0_cf_1_a': 1.02, 'pm1.0_cf_1_b': 0.09, 'pm1.0_atm': 0.6, 'pm1.0_atm_a': 1.02, 'pm1.0_atm_b': 0.09, 'pm2.5_atm': 4.0, 'pm2.5_atm_a': 4.35, 'pm2.5_atm_b': 3.56, 'pm2.5_cf_1': 4.0, 'pm2.5_cf_1_a': 4.35, 'pm2.5_cf_1_b': 3.56, 'pm10.0_atm': 4.2, 'pm10.0_atm_a': 4.76, 'pm10.0_atm_b': 3.6, 'pm10.0_cf_1': 4.2, 'pm10.0_cf_1_a': 4.76, 'pm10.0_cf_1_b': 3.6, 'primary_id_a': 1541469, 'primary_key_a': 'IU2HW6FDQK1SH531', 'primary_id_b': 1541471, 'primary_key_b': 'RO6N26IO6VEURDEQ', 'secondary_id_a': 1541470, 'secondary_key_a': 'LIFPQUIL7RLAHIB5', 'secondary_id_b': 1541472, 'secondary_key_b': 'FOIHMPW2Z1R3QJR3', 'stats': {'pm2.5': 4.0, 'pm2.5_10minute': 3.6, 'pm2.5_30minute': 4.1, 'pm2.5_60minute': 4.1, 'pm2.5_6hour': 3.3, 'pm2.5_24hour': 4.6, 'pm2.5_1week': 3.9, 'time_stamp': 1683721254}, 'stats_a': {'pm2.5': 4.4, 'pm2.5_10minute': 4.1, 'pm2.5_30minute': 4.6, 'pm2.5_60minute': 4.6, 'pm2.5_6hour': 3.7, 'pm2.5_24hour': 4.7, 'pm2.5_1week': 4.1, 'time_stamp': 1683721254}, 'stats_b': {'pm2.5': 3.6, 'pm2.5_10minute': 3.1, 'pm2.5_30minute': 3.6, 'pm2.5_60minute': 3.6, 'pm2.5_6hour': 2.9, 'pm2.5_24hour': 4.4, 'pm2.5_1week': 3.7, 'time_stamp': 1683721254}}}}\n"
     ]
    }
   ],
   "source": [
    "test = Histrocial_call_link(sensor_id_dict[\"Union_Bethel_AME\"])\n",
    "print(test)"
   ]
  }
 ],
 "metadata": {
  "interpreter": {
   "hash": "aee8b7b246df8f9039afb4144a1f6fd8d2ca17a180786b69acc140d282b71a49"
  },
  "kernelspec": {
   "display_name": "Python 3.9.10 64-bit",
   "language": "python",
   "name": "python3"
  },
  "language_info": {
   "codemirror_mode": {
    "name": "ipython",
    "version": 3
   },
   "file_extension": ".py",
   "mimetype": "text/x-python",
   "name": "python",
   "nbconvert_exporter": "python",
   "pygments_lexer": "ipython3",
   "version": "3.8.6"
  },
  "orig_nbformat": 4
 },
 "nbformat": 4,
 "nbformat_minor": 2
}
